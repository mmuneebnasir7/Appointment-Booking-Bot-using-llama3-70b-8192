{
  "nbformat": 4,
  "nbformat_minor": 0,
  "metadata": {
    "colab": {
      "provenance": []
    },
    "kernelspec": {
      "name": "python3",
      "display_name": "Python 3"
    },
    "language_info": {
      "name": "python"
    }
  },
  "cells": [
    {
      "cell_type": "markdown",
      "source": [
        "#**Install Groq**"
      ],
      "metadata": {
        "id": "inteyX4o4OBh"
      }
    },
    {
      "cell_type": "code",
      "execution_count": 3,
      "metadata": {
        "colab": {
          "base_uri": "https://localhost:8080/"
        },
        "id": "y_Z2jkqZaGwv",
        "outputId": "8c648aae-1960-45e5-df7f-cc4288c14ff5"
      },
      "outputs": [
        {
          "output_type": "stream",
          "name": "stdout",
          "text": [
            "Collecting groq\n",
            "  Downloading groq-0.31.0-py3-none-any.whl.metadata (16 kB)\n",
            "Requirement already satisfied: anyio<5,>=3.5.0 in /usr/local/lib/python3.11/dist-packages (from groq) (4.10.0)\n",
            "Requirement already satisfied: distro<2,>=1.7.0 in /usr/local/lib/python3.11/dist-packages (from groq) (1.9.0)\n",
            "Requirement already satisfied: httpx<1,>=0.23.0 in /usr/local/lib/python3.11/dist-packages (from groq) (0.28.1)\n",
            "Requirement already satisfied: pydantic<3,>=1.9.0 in /usr/local/lib/python3.11/dist-packages (from groq) (2.11.7)\n",
            "Requirement already satisfied: sniffio in /usr/local/lib/python3.11/dist-packages (from groq) (1.3.1)\n",
            "Requirement already satisfied: typing-extensions<5,>=4.10 in /usr/local/lib/python3.11/dist-packages (from groq) (4.14.1)\n",
            "Requirement already satisfied: idna>=2.8 in /usr/local/lib/python3.11/dist-packages (from anyio<5,>=3.5.0->groq) (3.10)\n",
            "Requirement already satisfied: certifi in /usr/local/lib/python3.11/dist-packages (from httpx<1,>=0.23.0->groq) (2025.8.3)\n",
            "Requirement already satisfied: httpcore==1.* in /usr/local/lib/python3.11/dist-packages (from httpx<1,>=0.23.0->groq) (1.0.9)\n",
            "Requirement already satisfied: h11>=0.16 in /usr/local/lib/python3.11/dist-packages (from httpcore==1.*->httpx<1,>=0.23.0->groq) (0.16.0)\n",
            "Requirement already satisfied: annotated-types>=0.6.0 in /usr/local/lib/python3.11/dist-packages (from pydantic<3,>=1.9.0->groq) (0.7.0)\n",
            "Requirement already satisfied: pydantic-core==2.33.2 in /usr/local/lib/python3.11/dist-packages (from pydantic<3,>=1.9.0->groq) (2.33.2)\n",
            "Requirement already satisfied: typing-inspection>=0.4.0 in /usr/local/lib/python3.11/dist-packages (from pydantic<3,>=1.9.0->groq) (0.4.1)\n",
            "Downloading groq-0.31.0-py3-none-any.whl (131 kB)\n",
            "\u001b[?25l   \u001b[90m━━━━━━━━━━━━━━━━━━━━━━━━━━━━━━━━━━━━━━━━\u001b[0m \u001b[32m0.0/131.4 kB\u001b[0m \u001b[31m?\u001b[0m eta \u001b[36m-:--:--\u001b[0m\r\u001b[2K   \u001b[90m━━━━━━━━━━━━━━━━━━━━━━━━━━━━━━━━━━━━━━━━\u001b[0m \u001b[32m131.4/131.4 kB\u001b[0m \u001b[31m9.7 MB/s\u001b[0m eta \u001b[36m0:00:00\u001b[0m\n",
            "\u001b[?25hInstalling collected packages: groq\n",
            "Successfully installed groq-0.31.0\n"
          ]
        }
      ],
      "source": [
        "%pip install groq"
      ]
    },
    {
      "cell_type": "markdown",
      "source": [
        "##**Loading Groq API key**"
      ],
      "metadata": {
        "id": "rWoYx54p0IRQ"
      }
    },
    {
      "cell_type": "code",
      "source": [
        "import os\n",
        "from google.colab import userdata\n",
        "\n",
        "# Access the API key from Colab secrets\n",
        "groq_api_key = userdata.get('GROQ_API_KEY')\n",
        "\n",
        "# You can set it as an environment variable, which some libraries might look for\n",
        "# Or hard code if you are having issues\n",
        "os.environ[\"GROQ_API_KEY\"] = groq_api_key\n",
        "\n",
        "print(\"Groq API key loaded successfully.\")"
      ],
      "metadata": {
        "colab": {
          "base_uri": "https://localhost:8080/"
        },
        "id": "i32HH52RaVr2",
        "outputId": "94e421c4-150e-48c7-c8ca-812d26d2a9fb"
      },
      "execution_count": 4,
      "outputs": [
        {
          "output_type": "stream",
          "name": "stdout",
          "text": [
            "Groq API key loaded successfully.\n"
          ]
        }
      ]
    },
    {
      "cell_type": "markdown",
      "source": [
        "##**Task 2: Appointment Booking Bot (Student Take-Home Work)**\n",
        "## Make the appointment booking bot conversational by adding state or a concept of history.\n",
        "\n",
        "##Modifications:\n",
        "\n",
        "###Modify the process_appointment_request function or the surrounding loop to maintain a history of the conversation.\n",
        "###Use the conversation history in subsequent prompts to the LLM so that it can understand the context of the current user request.\n",
        "###The bot should be able to:\n",
        "###Remember previous turns in the conversation (e.g., if the user mentioned a preferred time in a previous turn).\n",
        "###Ask clarifying questions based on the conversation history.\n",
        "###Ultimately, confirm the appointment details by referring back to the information gathered throughout the conversation.\n",
        "###Consider implementing a simple state machine or using a list to store message history."
      ],
      "metadata": {
        "id": "UDeTLuBj07Ui"
      }
    },
    {
      "cell_type": "code",
      "source": [
        "import os\n",
        "from groq import Groq\n",
        "\n",
        "# ===============================\n",
        "# Load Groq API Key Securely\n",
        "# ===============================\n",
        "\n",
        "# 1️⃣ Try Colab secrets (if running in Colab)\n",
        "try:\n",
        "    from google.colab import userdata\n",
        "    groq_api_key = userdata.get(\"GROQ_API_KEY\")\n",
        "except (ImportError, Exception):\n",
        "    # 2️⃣ Try Kaggle or system environment variable\n",
        "    groq_api_key = os.getenv(\"GROQ_API_KEY\")\n",
        "\n",
        "# 3️⃣ Optional: Load from a local .env file (if running locally)\n",
        "if not groq_api_key:\n",
        "    try:\n",
        "        from dotenv import load_dotenv\n",
        "        load_dotenv()\n",
        "        groq_api_key = os.getenv(\"GROQ_API_KEY\")\n",
        "    except ImportError:\n",
        "        pass\n",
        "\n",
        "# 4️⃣ Final safety check\n",
        "if not groq_api_key or groq_api_key.strip() == \"\":\n",
        "    raise ValueError(\"❌ GROQ_API_KEY not found! Please set it in Colab/Kaggle secrets or .env file.\")\n",
        "\n",
        "# Set it as an environment variable for Groq library\n",
        "os.environ[\"GROQ_API_KEY\"] = groq_api_key\n",
        "\n",
        "# ===============================\n",
        "# Initialize Groq Client\n",
        "# ===============================\n",
        "client = Groq(api_key=groq_api_key)\n",
        "\n",
        "# Conversation history\n",
        "conversation_history = [\n",
        "    {\n",
        "        \"role\": \"system\",\n",
        "        \"content\": (\n",
        "            \"You are an appointment booking assistant. Have a conversation with the user to gather \"\n",
        "            \"all necessary details (like date, time, type of appointment). Confirm the appointment \"\n",
        "            \"once all information is complete. Ask for clarification if needed. Be polite and helpful.\"\n",
        "        ),\n",
        "    }\n",
        "]\n",
        "\n",
        "def process_appointment_request(user_input):\n",
        "    \"\"\"Processes user input for an appointment using Llama 70B with history.\"\"\"\n",
        "    try:\n",
        "        # Add user input to history\n",
        "        conversation_history.append({\"role\": \"user\", \"content\": user_input})\n",
        "\n",
        "        # Call the model with conversation history\n",
        "        chat_completion = client.chat.completions.create(\n",
        "            messages=conversation_history,\n",
        "            model=\"llama3-70b-8192\",\n",
        "        )\n",
        "\n",
        "        # Get assistant response\n",
        "        response = chat_completion.choices[0].message.content\n",
        "\n",
        "        # Append assistant response to history\n",
        "        conversation_history.append({\"role\": \"assistant\", \"content\": response})\n",
        "\n",
        "        return response\n",
        "    except Exception as e:\n",
        "        return f\"An error occurred: {e}\"\n",
        "\n",
        "# ===============================\n",
        "# Chat loop\n",
        "# ===============================\n",
        "print(\"Hello! I am your appointment booking bot. Let's get started.\")\n",
        "print(\"Type 'quit' to exit.\\n\")\n",
        "\n",
        "while True:\n",
        "    user_request = input(\"You: \").strip()\n",
        "    if user_request.lower() == 'quit':\n",
        "        print(\"Bot: Goodbye! Have a great day.\")\n",
        "        break\n",
        "\n",
        "    bot_response = process_appointment_request(user_request)\n",
        "    print(\"Bot:\", bot_response)\n"
      ],
      "metadata": {
        "colab": {
          "base_uri": "https://localhost:8080/"
        },
        "id": "9YbcQQrKagpQ",
        "outputId": "715c55e6-4e30-4ee9-969b-966d67d34f25"
      },
      "execution_count": 5,
      "outputs": [
        {
          "output_type": "stream",
          "name": "stdout",
          "text": [
            "Hello! I am your appointment booking bot. Let's get started.\n",
            "Type 'quit' to exit.\n",
            "\n",
            "You: quit\n",
            "Bot: Goodbye! Have a great day.\n"
          ]
        }
      ]
    }
  ]
}